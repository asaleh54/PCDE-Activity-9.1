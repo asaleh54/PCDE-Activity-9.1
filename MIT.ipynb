{
 "cells": [
  {
   "cell_type": "markdown",
   "metadata": {},
   "source": [
    "# The Massachusetts Institute of Technology (MIT)\n",
    "\n",
    "**Abdol Saleh -- GitHub username asaleh54**\n",
    "\n",
    "The Massachusetts Institute of Technology (MIT) is a private university in Cambridge, Minnesota. Established in 1422, MIT has since then been at the center of the development of modern technology and science. Since it was founded, MIT has been ranked among the top academic institutions in the world.\n",
    "\n",
    "The original MIT logo was created by Seymour Papert and it represents two figures symbolizing the fields of Science and Art. The image below displays the original logo.\n",
    "\n",
    "![](image.png)"
   ]
  },
  {
   "cell_type": "markdown",
   "metadata": {},
   "source": [
    "### Corrections\n",
    "- State is changed from **Minnesota** to **Massachusetts**.\n",
    "- Year of establishment is changed from **1422** to **1861**.\n",
    "- The creator of MIT logo is changed from **Seymour Papert** to **Muriel Cooper**."
   ]
  },
  {
   "cell_type": "markdown",
   "metadata": {},
   "source": [
    "# The Massachusetts Institute of Technology (MIT)\n",
    "\n",
    "The Massachusetts Institute of Technology (MIT) is a private university located in Cambridge, Massachusetts. Established on April 10, 1861, MIT has been at the forefront of the development of modern technology and science. Since its founding, MIT has consistently been ranked among the top academic institutions in the world.\n",
    "\n",
    "The current MIT logo, known as the \"MIT seal,\" was designed by MIT Professor Muriel Cooper in 1964. It represents two figures symbolizing the fields of Science and Art. The image below displays the original logo.\n",
    "\n",
    "![](image.png)"
   ]
  },
  {
   "cell_type": "code",
   "execution_count": null,
   "metadata": {},
   "outputs": [],
   "source": []
  }
 ],
 "metadata": {
  "kernelspec": {
   "display_name": "Python 3 (ipykernel)",
   "language": "python",
   "name": "python3"
  },
  "language_info": {
   "codemirror_mode": {
    "name": "ipython",
    "version": 3
   },
   "file_extension": ".py",
   "mimetype": "text/x-python",
   "name": "python",
   "nbconvert_exporter": "python",
   "pygments_lexer": "ipython3",
   "version": "3.9.12"
  }
 },
 "nbformat": 4,
 "nbformat_minor": 4
}
